{
 "cells": [
  {
   "cell_type": "markdown",
   "metadata": {},
   "source": [
    "# ImageNet Dataset Exploration\n",
    "\n",
    "This notebook aims to explore and prep the ImageNet(IN) dataset for training on YOLOv1 model. The model is build on the Tensorflow framework. The IN dataset can be downloaded from [here](http://image-net.org/download). Download and extract it. The path to the home directory(ILSVRC) should be stored in the following variable:"
   ]
  },
  {
   "cell_type": "code",
   "execution_count": 3,
   "metadata": {},
   "outputs": [],
   "source": [
    "absolute_ImageNet_path = \"/media/aditya/Seagate\\ Backup\\ Plus\\ Drive/DATASET/ILSVRC\""
   ]
  },
  {
   "cell_type": "markdown",
   "metadata": {},
   "source": [
    "Two things that this notbook tries to achieve\n",
    "- Explore, visualize and learn how the data and the corresponding labels are structured\n",
    "- Try and device an efficient way to load data at runtime for training. For obvious reasons(Limited CPU), we cannot work with hdf5 file formats or Tensor records."
   ]
  },
  {
   "cell_type": "code",
   "execution_count": null,
   "metadata": {},
   "outputs": [],
   "source": []
  }
 ],
 "metadata": {
  "kernelspec": {
   "display_name": "Python 3",
   "language": "python",
   "name": "python3"
  },
  "language_info": {
   "codemirror_mode": {
    "name": "ipython",
    "version": 3
   },
   "file_extension": ".py",
   "mimetype": "text/x-python",
   "name": "python",
   "nbconvert_exporter": "python",
   "pygments_lexer": "ipython3",
   "version": "3.6.3"
  }
 },
 "nbformat": 4,
 "nbformat_minor": 2
}
