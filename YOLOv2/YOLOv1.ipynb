{
 "cells": [
  {
   "cell_type": "markdown",
   "metadata": {},
   "source": [
    "# YOLOv1 Implementation\n",
    "\n",
    "This notebook aims to implement the YOLOv2 object detection algorithm and replicate the results as given in [this](https://pjreddie.com/media/files/papers/yolo_1.pdf) paper.\n",
    "\n",
    "Steps involved:\n",
    "- Pre-training weights on ImageNet dataset.\n",
    "- implement the YOLOv1 model\n",
    "\n",
    "\n",
    "### Step 1\n",
    "Pre-training weights on ImageNet dataset\n",
    "- prepare the modified network model\n",
    "- prepare the dataset for training - ImageNet dataset\n",
    "- Implement debugging functions for training\n",
    "- train the model"
   ]
  },
  {
   "cell_type": "code",
   "execution_count": 4,
   "metadata": {},
   "outputs": [],
   "source": [
    "import tensorflow as tf\n",
    "import numpy as np\n",
    "import math\n",
    "import matplotlib as plt\n",
    "import xml.etree.ElementTree as ET"
   ]
  },
  {
   "cell_type": "code",
   "execution_count": 5,
   "metadata": {},
   "outputs": [],
   "source": [
    "def create_placeholders(n_H, n_W, n_C, n_y):\n",
    "    '''\n",
    "    Function to create placeholder for the input tensors\n",
    "    \n",
    "    Args:\n",
    "    n_H = height of the image tensor\n",
    "    n_W = width of the image tensor\n",
    "    n_C = number of channels in the image tensor\n",
    "    n_y = number of classes/output features\n",
    "    \n",
    "    returns:\n",
    "    X, Y\n",
    "    '''\n",
    "    X = tf.placeholder(tf.float32, shape = (None, n_H, n_W, n_C))\n",
    "    Y = tf.placeholder(tf.float32, shape = (None, n_y))\n",
    "    return X, Y"
   ]
  },
  {
   "cell_type": "code",
   "execution_count": 6,
   "metadata": {},
   "outputs": [],
   "source": [
    "# test script: DELETE"
   ]
  },
  {
   "cell_type": "code",
   "execution_count": null,
   "metadata": {},
   "outputs": [],
   "source": []
  }
 ],
 "metadata": {
  "kernelspec": {
   "display_name": "Python 3",
   "language": "python",
   "name": "python3"
  },
  "language_info": {
   "codemirror_mode": {
    "name": "ipython",
    "version": 3
   },
   "file_extension": ".py",
   "mimetype": "text/x-python",
   "name": "python",
   "nbconvert_exporter": "python",
   "pygments_lexer": "ipython3",
   "version": "3.6.3"
  }
 },
 "nbformat": 4,
 "nbformat_minor": 2
}
