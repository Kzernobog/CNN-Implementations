{
 "cells": [
  {
   "cell_type": "markdown",
   "metadata": {},
   "source": [
    "# YOLOv1 Implementation\n",
    "\n",
    "This notebook aims to implement the YOLOv2 object detection algorithm and replicate the results as given in [this](https://pjreddie.com/media/files/papers/yolo_1.pdf) paper.\n",
    "\n",
    "Steps involved:\n",
    "- Pre-training weights on ImageNet dataset.\n",
    "- implement the YOLOv1 model\n",
    "\n",
    "\n",
    "### Step 1\n",
    "Pre-training weights on ImageNet dataset\n",
    "- prepare the modified network model\n",
    "- prepare the dataset for training - ImageNet dataset\n",
    "- Implement debugging functions for training\n",
    "- train the model"
   ]
  },
  {
   "cell_type": "code",
   "execution_count": 1,
   "metadata": {},
   "outputs": [],
   "source": [
    "import tensorflow as tf\n",
    "import numpy as np\n",
    "import math\n",
    "import matplotlib as plt"
   ]
  },
  {
   "cell_type": "code",
   "execution_count": 2,
   "metadata": {},
   "outputs": [
    {
     "data": {
      "text/plain": [
       "'1.5.0'"
      ]
     },
     "execution_count": 2,
     "metadata": {},
     "output_type": "execute_result"
    }
   ],
   "source": [
    "tf.__version__"
   ]
  },
  {
   "cell_type": "markdown",
   "metadata": {},
   "source": [
    "### Step 2\n",
    "Implement the YOLOv1 model\n",
    "\n",
    "- Implement Forward Propagation function\n",
    "- Implement cost function\n",
    "- Implement model function\n",
    "\n",
    "Create placeholders for the feature and label tensors"
   ]
  },
  {
   "cell_type": "code",
   "execution_count": 3,
   "metadata": {},
   "outputs": [],
   "source": [
    "def create_placeholders(n_H, n_W, n_C, n_y):\n",
    "    '''\n",
    "    Function to create placeholder for tensorflow session\n",
    "    \n",
    "    Args:\n",
    "    n_H = height of the image\n",
    "    n_W = width of image\n",
    "    n_C = number of channels\n",
    "    n_y = number of output features\n",
    "    \n",
    "    returns:\n",
    "    X,Y\n",
    "    '''\n",
    "    X = tf.placeholder(tf.float32, shape = (None, n_H, n_W, n_C))\n",
    "    Y = tf.placeholder(tf.float32, shape = (None, n_y))\n",
    "    return X, Y"
   ]
  },
  {
   "cell_type": "code",
   "execution_count": 4,
   "metadata": {},
   "outputs": [
    {
     "name": "stdout",
     "output_type": "stream",
     "text": [
      "X = Tensor(\"Placeholder:0\", shape=(?, 448, 448, 3), dtype=float32)\n",
      "Y = Tensor(\"Placeholder_1:0\", shape=(?, 1000), dtype=float32)\n"
     ]
    }
   ],
   "source": [
    "# test script for the create-placeholder function\n",
    "X, Y = create_placeholders(448, 448, 3, 1000)\n",
    "print (\"X = \" + str(X))\n",
    "print (\"Y = \" + str(Y))"
   ]
  },
  {
   "cell_type": "markdown",
   "metadata": {},
   "source": [
    "Declare and initialize the parameters that are used in the model. Traditional implementation of a CNN would have had to initialize them randomly. But the YOLOv1 model is pre-trained on ImageNet. These weights can be procured from Step 1."
   ]
  },
  {
   "cell_type": "code",
   "execution_count": 5,
   "metadata": {},
   "outputs": [],
   "source": [
    "def initialize_parameters():\n",
    "    \"\"\"\n",
    "    Yet to be coded\n",
    "    \"\"\""
   ]
  },
  {
   "cell_type": "markdown",
   "metadata": {},
   "source": [
    "Implement the YOLOv1 CNN forward propogation function. Facts that you need to paid attention\n",
    "- Linear activation for the final layer, leaky relu for the rest with alpha = 0.1\n",
    "- Any image is resized to 448x448. This is the standard input."
   ]
  },
  {
   "cell_type": "code",
   "execution_count": null,
   "metadata": {},
   "outputs": [],
   "source": [
    "def forward_propogation_YOLOv1(X, parameters):\n",
    "    '''\n",
    "    Args:\n",
    "    X - placeholder for the initial feature tensor\n",
    "    parameters - dictionary containing filters\n",
    "    \n",
    "    returns\n",
    "    Z8 - output of the last LINEAR layer\n",
    "    \n",
    "    NOT IMPLEMENTED: NORMALIZATION\n",
    "    '''\n",
    "    \n",
    "    Z1 = tf.nn.conv2d(X, parameters['W1'], [1,2,2,1], padding=\"VALID\")\n",
    "    A1 = tf.nn.leaky_relu(Z1, alpha=0.1)\n",
    "    P1 = tf.nn.max_pool(A1, [1,2,2,1], [1,2,2,1], padding=\"VALID\")\n",
    "    \n",
    "    Z2 = tf.nn.conv2d(P1, parameters['W2'], [1,1,1,1], padding=\"VALID\")\n",
    "    A2 = tf.nn.leaky_relu(Z2, alpha=0.1)\n",
    "    P2 = tf.nn.max_pool(A2, [1,2,2,1], [1,2,2,1], padding=\"VALID\")\n",
    "    \n",
    "    Z3 = tf.nn.conv2d(P2, parameters['W3'], [1,1,1,1], padding=\"VALID\")\n",
    "    A3 = tf.nn.leaky_relu(Z3, alpha=0.1)\n",
    "    Z4 = tf.nn.conv2d(A3, parameters['W4'], [1,1,1,1], padding=\"VALID\")\n",
    "    A4 = tf.nn.leaky_relu(Z4, alpha=0.1)\n",
    "    Z5 = tf.nn.conv2d(A4, parameters['W5'], [1,1,1,1], padding=\"VALID\")\n",
    "    A5 = tf.nn.leaky_relu(Z5, alpha=0.1)\n",
    "    Z6 = tf.nn.conv2d(A5, parameters['W6'], [1,1,1,1], padding=\"VALID\")\n",
    "    A6 = tf.nn.leaky_relu(Z6, alpha=0.1)\n",
    "    P3 = tf.nn.max_pool(A6, [1,2,2,1], [1,2,2,1], padding=\"VALID\")\n",
    "    \n",
    "    Z7 = tf.nn.conv2d(P3, parameters['W7'], [1,1,1,1], padding=\"VALID\")\n",
    "    A7 = tf.nn.leaky_relu(Z7, alpha=0.1)\n",
    "    Z8 = tf.nn.conv2d(A7, parameters['W8'], [1,1,1,1], padding=\"VALID\")\n",
    "    A8 = tf.nn.leaky_relu(Z8, alpha=0.1)\n",
    "    Z9 = tf.nn.conv2d(A8, parameters['W9'], [1,1,1,1], padding=\"VALID\")\n",
    "    A9 = tf.nn.leaky_relu(Z9, alpha=0.1)\n",
    "    Z10 = tf.nn.conv2d(A9, parameters['W10'], [1,1,1,1], padding=\"VALID\")\n",
    "    A10 = tf.nn.leaky_relu(Z10, alpha=0.1)\n",
    "    Z11 = tf.nn.conv2d(P10, parameters['W11'], [1,1,1,1], padding=\"VALID\")\n",
    "    A11 = tf.nn.leaky_relu(Z11, alpha=0.1)\n",
    "    Z12 = tf.nn.conv2d(A11, parameters['W12'], [1,1,1,1], padding=\"VALID\")\n",
    "    A12 = tf.nn.leaky_relu(Z12, alpha=0.1)\n",
    "    Z13 = tf.nn.conv2d(A12, parameters['W13'], [1,1,1,1], padding=\"VALID\")\n",
    "    A13 = tf.nn.leaky_relu(Z13, alpha=0.1)\n",
    "    Z14 = tf.nn.conv2d(A13, parameters['W14'], [1,1,1,1], padding=\"VALID\")\n",
    "    A14 = tf.nn.leaky_relu(Z14, alpha=0.1)\n",
    "    Z15 = tf.nn.conv2d(P4, parameters['W15'], [1,1,1,1], padding=\"VALID\")\n",
    "    A15 = tf.nn.leaky_relu(Z15, alpha=0.1)\n",
    "    Z16 = tf.nn.conv2d(A15, parameters['W16'], [1,1,1,1], padding=\"VALID\")\n",
    "    A16 = tf.nn.leaky_relu(Z16, alpha=0.1)\n",
    "    P4 = tf.nn.max_pool(A16, [1,2,2,1], [1,2,2,1], padding=\"VALID\")\n",
    "    \n",
    "    \n",
    "    Z17 = tf.nn.conv2d(P4, parameters['W17'], [1,1,1,1], padding=\"VALID\")\n",
    "    A17 = tf.nn.leaky_relu(Z17, alpha=0.1)\n",
    "    Z18 = tf.nn.conv2d(A17, parameters['W18'], [1,1,1,1], padding=\"VALID\")\n",
    "    A18 = tf.nn.leaky_relu(Z18, alpha=0.1)\n",
    "    Z19 = tf.nn.conv2d(A18, parameters['W19'], [1,1,1,1], padding=\"VALID\")\n",
    "    A19 = tf.nn.leaky_relu(Z19, alpha=0.1)\n",
    "    Z20 = tf.nn.conv2d(A19, parameters['W20'], [1,1,1,1], padding=\"VALID\")\n",
    "    A20 = tf.nn.leaky_relu(Z20, alpha=0.1)\n",
    "    Z21 = tf.nn.conv2d(A20, parameters['W21'], [1,1,1,1], padding=\"VALID\")\n",
    "    A21 = tf.nn.leaky_relu(Z21, alpha=0.1)\n",
    "    Z22 = tf.nn.conv2d(A20, parameters['W22'], [1,2,2,1], padding=\"VALID\")\n",
    "    A22 = tf.nn.leaky_relu(Z22, alpha=0.1)\n",
    "    \n",
    "    Z23 = tf.nn.conv2d(A22, parameters['W23'], [1,1,1,1], padding=\"VALID\")\n",
    "    A23 = tf.nn.leaky_relu(Z23, alpha=0.1)\n",
    "    Z24 = tf.nn.conv2d(A23, parameters['W24'], [1,1,1,1], padding=\"VALID\")\n",
    "    A24 = tf.nn.leaky_relu(Z24, alpha=0.1)\n",
    "    \n",
    "    \n",
    "    "
   ]
  }
 ],
 "metadata": {
  "kernelspec": {
   "display_name": "Python 3",
   "language": "python",
   "name": "python3"
  },
  "language_info": {
   "codemirror_mode": {
    "name": "ipython",
    "version": 3
   },
   "file_extension": ".py",
   "mimetype": "text/x-python",
   "name": "python",
   "nbconvert_exporter": "python",
   "pygments_lexer": "ipython3",
   "version": "3.6.3"
  }
 },
 "nbformat": 4,
 "nbformat_minor": 2
}
