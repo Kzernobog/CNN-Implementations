{
 "cells": [
  {
   "cell_type": "markdown",
   "metadata": {},
   "source": [
    "# YOLOv1 Implementation\n",
    "\n",
    "This notebook aims to implement the YOLOv2 object detection algorithm and replicate the results as given in [this](https://pjreddie.com/media/files/papers/yolo_1.pdf) paper.\n",
    "\n",
    "Steps involved:\n",
    "- Pre-training weights on ImageNet dataset.\n",
    "- implement the YOLOv1 model\n",
    "\n",
    "\n",
    "### Step 1\n",
    "Pre-training weights on ImageNet dataset\n",
    "- prepare the modified network model\n",
    "- prepare the dataset for training - ImageNet dataset\n",
    "- Implement debugging functions for training\n",
    "- train the model"
   ]
  },
  {
   "cell_type": "code",
   "execution_count": null,
   "metadata": {},
   "outputs": [],
   "source": []
  }
 ],
 "metadata": {
  "kernelspec": {
   "display_name": "Python 3",
   "language": "python",
   "name": "python3"
  },
  "language_info": {
   "codemirror_mode": {
    "name": "ipython",
    "version": 3
   },
   "file_extension": ".py",
   "mimetype": "text/x-python",
   "name": "python",
   "nbconvert_exporter": "python",
   "pygments_lexer": "ipython3",
   "version": "3.6.3"
  }
 },
 "nbformat": 4,
 "nbformat_minor": 2
}
