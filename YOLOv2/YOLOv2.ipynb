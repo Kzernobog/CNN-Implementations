{
 "cells": [
  {
   "cell_type": "markdown",
   "metadata": {},
   "source": [
    "# YOLOv2 Implementation\n",
    "\n",
    "This notebook aims to implement the YOLOv2 object detection algorithm and replicate the results as given in [this](https://pjreddie.com/media/files/papers/yolo_1.pdf) paper.\n",
    "\n",
    "Steps involved:\n",
    "- Pre-training weights on ImageNet dataset.\n",
    "- Data pre-processing - prepare the Y-train and Y-val labels from traditional image datasets(ImageNet, Pascal-VOC, COCO). This is required as the YOLO labels require you to construct an $S*S*(B*5 + C)$ tensor, where S is the grid dimension, B - number of anchor boxes, C - individual class probabilities.\n",
    "- Implement forward propagation for the model\n",
    "- implement IoU function\n",
    "- Implement accuracy measurement function\n",
    "\n",
    "\n",
    "### Step 1\n",
    "Pre-training weights on ImageNet dataset\n",
    "- prepare the modified network model\n",
    "- "
   ]
  }
 ],
 "metadata": {
  "kernelspec": {
   "display_name": "Python 3",
   "language": "python",
   "name": "python3"
  },
  "language_info": {
   "codemirror_mode": {
    "name": "ipython",
    "version": 3
   },
   "file_extension": ".py",
   "mimetype": "text/x-python",
   "name": "python",
   "nbconvert_exporter": "python",
   "pygments_lexer": "ipython3",
   "version": "3.6.3"
  }
 },
 "nbformat": 4,
 "nbformat_minor": 2
}
