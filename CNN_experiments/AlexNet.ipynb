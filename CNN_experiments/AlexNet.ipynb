{
 "cells": [
  {
   "cell_type": "markdown",
   "metadata": {},
   "source": [
    "# AlexNet"
   ]
  },
  {
   "cell_type": "code",
   "execution_count": 1,
   "metadata": {},
   "outputs": [
    {
     "name": "stderr",
     "output_type": "stream",
     "text": [
      "/home/aditya/Documents/Projects/atgm_vision_module/env/lib/python3.6/site-packages/h5py/__init__.py:36: FutureWarning: Conversion of the second argument of issubdtype from `float` to `np.floating` is deprecated. In future, it will be treated as `np.float64 == np.dtype(float).type`.\n",
      "  from ._conv import register_converters as _register_converters\n"
     ]
    }
   ],
   "source": [
    "import tensorflow as tf\n",
    "import DL_utils as dl\n",
    "import datetime\n",
    "import numpy as np\n",
    "import os\n",
    "import h5py\n",
    "import math\n",
    "from tqdm import tqdm_notebook, tnrange"
   ]
  },
  {
   "cell_type": "code",
   "execution_count": 2,
   "metadata": {},
   "outputs": [
    {
     "data": {
      "text/plain": [
       "'1.4.1'"
      ]
     },
     "execution_count": 2,
     "metadata": {},
     "output_type": "execute_result"
    }
   ],
   "source": [
    "tf.__version__"
   ]
  },
  {
   "cell_type": "code",
   "execution_count": 3,
   "metadata": {},
   "outputs": [],
   "source": [
    "def create_placeholders(n_H, n_W, n_C, n_y):\n",
    "    '''\n",
    "    Function to create placeholder for tensorflow session\n",
    "    \n",
    "    Args:\n",
    "    n_H = height of the image\n",
    "    n_W = width of image\n",
    "    n_C = number of channels\n",
    "    n_y = number of output features\n",
    "    \n",
    "    returns:\n",
    "    X,Y\n",
    "    '''\n",
    "    X = tf.placeholder(tf.float32, shape = (None, n_H, n_W, n_C))\n",
    "    Y = tf.placeholder(tf.float32, shape = (None, n_y))\n",
    "    \n",
    "    return X, Y"
   ]
  },
  {
   "cell_type": "code",
   "execution_count": 4,
   "metadata": {},
   "outputs": [
    {
     "name": "stdout",
     "output_type": "stream",
     "text": [
      "[11, 11, 3, 96] W01 b01\n",
      "[5, 5, 96, 256] W02 b02\n",
      "[3, 3, 256, 384] W03 b03\n",
      "[3, 3, 384, 384] W04 b04\n",
      "[3, 3, 384, 256] W05 b05\n"
     ]
    }
   ],
   "source": [
    "parameters = dl.initialize_weights('AlexNet.xml')"
   ]
  },
  {
   "cell_type": "code",
   "execution_count": 5,
   "metadata": {},
   "outputs": [],
   "source": [
    "def AN_forward_propagation(X, parameters):\n",
    "    '''\n",
    "    Forward propagation for AlexNet without normalization\n",
    "    \n",
    "    '''\n",
    "    # 1st conv\n",
    "    A1 = dl.conv_layer(X,parameters['W01'],parameters['b01'], [1,4,4,1], padding='VALID', name='1')\n",
    "    # 1st pool\n",
    "    P1 = dl.max_pool(A1, kernel=[1,3,3,1], strides=[1,2,2,1], padding = 'VALID', name='1')\n",
    "    # 2nd conv\n",
    "    A2 = dl.conv_layer(P1,parameters['W02'],parameters['b02'], strides = [1,1,1,1], padding = 'SAME', name='2')\n",
    "    #2nd pool\n",
    "    P2 = dl.max_pool(A2, kernel=[1,3,3,1], strides=[1,2,2,1], padding = 'VALID', name='2')\n",
    "    # 3rd conv\n",
    "    A3 = dl.conv_layer(P2,parameters['W03'], parameters['b03'], strides=[1,1,1,1], padding='SAME', name='3')\n",
    "    # 4th conv\n",
    "    A4 = dl.conv_layer(A3,parameters['W04'], parameters['b04'], strides=[1,1,1,1], padding = 'SAME', name='4')\n",
    "    # 5th conv\n",
    "    A5 = dl.conv_layer(A4,parameters['W05'], parameters['b05'], strides=[1,1,1,1], padding='SAME', name='5')\n",
    "    # 3rd pool\n",
    "    P3 = dl.max_pool(A5, kernel=[1,3,3,1], strides =[1,2,2,1], padding = 'VALID', name='3')\n",
    "    # Flattening the last pooling layer\n",
    "    P3 = tf.contrib.layers.flatten(P3)\n",
    "    # FC1 - 4096 neurons\n",
    "    F1 = dl.fc_layer(P3, 4096, activation_fn=None, name='1')\n",
    "    # FC2 - 4096 neurons\n",
    "    F2 = dl.fc_layer(F1, 4096, activation_fn=None, name='2')\n",
    "    # FC3 - 1000 neurons reping different classes - may be modified for other models\n",
    "    F3 = dl.fc_layer(F2, 1000, activation_fn=None, name='3')\n",
    "    \n",
    "    return F3"
   ]
  },
  {
   "cell_type": "code",
   "execution_count": 6,
   "metadata": {},
   "outputs": [],
   "source": [
    "def compute_AN_cost(Z, Y, name=None):\n",
    "    '''\n",
    "    Computes cost \n",
    "    \n",
    "    Args:\n",
    "    Z8 -- Logits/Linear output from the last fully connected layer\n",
    "    Y -- labels corresponding to each example in the batch\n",
    "    \n",
    "    Returns:\n",
    "    cost -- cost of the epoch\n",
    "    '''\n",
    "    with tf.name_scope(\"cost\"):\n",
    "        cost = tf.reduce_mean(tf.nn.softmax_cross_entropy_with_logits(logits = Z, labels = Y))\n",
    "        tf.summary.scalar(\"cost\", cost)\n",
    "        return cost"
   ]
  },
  {
   "cell_type": "code",
   "execution_count": 7,
   "metadata": {},
   "outputs": [],
   "source": [
    "def model(xml_path, LOGDIR, MODELDIR, test_path, learning_rate = 0.09, num_epochs = 150, \n",
    "          minibatch_size = 64, print_cost = True):\n",
    "    \n",
    "    # restting the default graph\n",
    "    tf.reset_default_graph()\n",
    "    \n",
    "    # retrieve image shapes\n",
    "    #(m, n_Htr, n_Wtr, n_Ctr) = X_train.shape\n",
    "    #n_Y = Y_train.shape\n",
    "    \n",
    "    # global variables\n",
    "    costs = []\n",
    "    \n",
    "    # randomizer\n",
    "    seed = int(np.random.randint(1,100,1))\n",
    "    \n",
    "    # creating placeholders \n",
    "    X, Y = create_placeholders(224,224,3,1000)\n",
    "    \n",
    "    # initializing parameters\n",
    "    parameters = dl.initialize_weights(xml_path)\n",
    "    \n",
    "    # forward prop\n",
    "    F3 = AN_forward_propagation(X, parameters)\n",
    "    \n",
    "    # compute cost\n",
    "    cost = compute_AN_cost(F3, Y)\n",
    "        \n",
    "    # compute accuracy\n",
    "    train_accuracy = dl.accuracy(F3, Y)\n",
    "    test_accuracy = dl.accuracy(F3, Y, \"test\")\n",
    "    \n",
    "    # select the optimizer\n",
    "    with tf.name_scope(\"train\"):\n",
    "        train_step = tf.train.AdamOptimizer(learning_rate = learning_rate).minimize(cost)\n",
    "    \n",
    "    # initialize global variables\n",
    "    init = tf.global_variables_initializer()\n",
    "    \n",
    "    # initialize the session\n",
    "    with tf.Session() as sess:\n",
    "        \n",
    "        # run the initialization for the session\n",
    "        sess.run(init)\n",
    "        \n",
    "        # initializing summaries and file writers\n",
    "        merged_summary = tf.summary.merge_all()\n",
    "        writer = tf.summary.FileWriter(LOGDIR)\n",
    "        writer.add_graph(sess.graph)\n",
    "        saver = tf.train.Saver()\n",
    "        \n",
    "        # for loop for epoch/iterations\n",
    "        for epoch in tnrange(num_epochs):\n",
    "            \n",
    "            # maintain the cost through an epoch\n",
    "            epoch_cost = 0\n",
    "            \n",
    "            # randomizer\n",
    "            seed += 1\n",
    "            \n",
    "            # path to training folder\n",
    "            PATH = '/home/aditya/Documents/Projects/atgm_vision_module/CNN-Implementations/data/h5_FILES_ImageNet/training_folder/'\n",
    "            \n",
    "            # set up the data\n",
    "            h5_files = os.listdir(PATH)\n",
    "            \n",
    "            # for loop to iterate through the h5 files\n",
    "            for file in tqdm_notebook(h5_files):\n",
    "                \n",
    "                # open the h5 file to form tensor\n",
    "                with h5py.File(PATH+file, mode = 'r') as h5_file:\n",
    "                    \n",
    "                    # extract features and labels\n",
    "                    X_train = np.asarray(h5_file['X_train'])\n",
    "                    Y_train = np.asarray(h5_file['Y_train'])\n",
    "                    \n",
    "                    # number of examples\n",
    "                    (m, n_Htr, n_Wtr, n_Ctr) = h5_file['X_train'].shape\n",
    "                    \n",
    "                    # ??? - REASON WHY\n",
    "                    num_minibatches = int(m/minibatch_size)\n",
    "\n",
    "                    # generate minibatches\n",
    "                    minibatches = dl.random_mini_batches(X_train, Y_train, minibatch_size, seed)\n",
    "\n",
    "                    # iterate through the minibatches\n",
    "                    for minibatch in minibatches:\n",
    "                        \n",
    "                        # procure minibatches\n",
    "                        (minibatch_X, minibatch_Y) = minibatch\n",
    "                        # optimize for cost, \n",
    "                        _ , minibatch_cost = sess.run([train_step, cost], feed_dict={X: minibatch_X, Y: tf.one_hot(minibatch_Y, 1000).eval()})\n",
    "                        # cumulative minibatch cost\n",
    "                        epoch_cost += minibatch_cost/num_minibatches\n",
    "                        \n",
    "                        # training accuracy\n",
    "                        training = sess.run(train_accuracy, feed_dict={X: minibatch_X, Y: tf.one_hot(minibatch_Y, 1000).eval()})\n",
    "                        \n",
    "                    # calculate the accuracy\n",
    "                    if epoch % 5  == 0 and epoch != 0:\n",
    "\n",
    "                        # testing accuracy\n",
    "                        with h5py.File(test_path, mode='r') as h5_file_test:\n",
    "                            number_of_test_images = h5_file_test['Y_val'].shape[0]\n",
    "                            k = 0\n",
    "                            num_of_test_batches = number_of_test_images/minibatch_size\n",
    "                            tot_testing = 0\n",
    "                            while (k*minibatch_size) < number_of_test_images:\n",
    "                                X_test = np.asarray(h5_file_test['X_val'][k*minibatch_size:k*minibatch_size+minibatch_size,:,:,:])\n",
    "                                Y_test = np.asarray(h5_file_test['Y_val'][k*minibatch_size:k*minibatch_size+minibatch_size])\n",
    "                                testing = sess.run(test_accuracy, feed_dict={X: X_test, Y: tf.one_hot(Y_test, 1000).eval()})\n",
    "                                tot_testing += testing/num_of_test_batches\n",
    "                                k+=1\n",
    "\n",
    "                        # print the accuracy\n",
    "                        print(\"current training accuracy : \", training)\n",
    "                        print(\"current test accuracy : \", tot_testing)\n",
    "                        \n",
    "                        # save summaries and models\n",
    "                        s = sess.run(merged_summary, feed_dict = {X: X_train, Y: Y_train})\n",
    "                        writer.add_summary(s, epoch)\n",
    "                        save_path = saver.save(sess, MODELDIR)\n",
    "            \n",
    "            # Print the cost after every 5 epochs\n",
    "            if print_cost == True and epoch % 1 == 0:\n",
    "                print (\"Cost after epoch %i: %f\" % (epoch, epoch_cost))\n",
    "                # costs.append(epoch_cost)\n",
    "                \n",
    "    return parameters"
   ]
  },
  {
   "cell_type": "code",
   "execution_count": null,
   "metadata": {
    "scrolled": true
   },
   "outputs": [
    {
     "name": "stdout",
     "output_type": "stream",
     "text": [
      "[11, 11, 3, 96] W01 b01\n",
      "[5, 5, 96, 256] W02 b02\n",
      "[3, 3, 256, 384] W03 b03\n",
      "[3, 3, 384, 384] W04 b04\n",
      "[3, 3, 384, 256] W05 b05\n"
     ]
    },
    {
     "data": {
      "application/vnd.jupyter.widget-view+json": {
       "model_id": "e770d1fcf8914be9bcf43c25b342944d",
       "version_major": 2,
       "version_minor": 0
      },
      "text/html": [
       "<p>Failed to display Jupyter Widget of type <code>HBox</code>.</p>\n",
       "<p>\n",
       "  If you're reading this message in the Jupyter Notebook or JupyterLab Notebook, it may mean\n",
       "  that the widgets JavaScript is still loading. If this message persists, it\n",
       "  likely means that the widgets JavaScript library is either not installed or\n",
       "  not enabled. See the <a href=\"https://ipywidgets.readthedocs.io/en/stable/user_install.html\">Jupyter\n",
       "  Widgets Documentation</a> for setup instructions.\n",
       "</p>\n",
       "<p>\n",
       "  If you're reading this message in another frontend (for example, a static\n",
       "  rendering on GitHub or <a href=\"https://nbviewer.jupyter.org/\">NBViewer</a>),\n",
       "  it may mean that your frontend doesn't currently support widgets.\n",
       "</p>\n"
      ],
      "text/plain": [
       "HBox(children=(IntProgress(value=0, max=150), HTML(value='')))"
      ]
     },
     "metadata": {},
     "output_type": "display_data"
    },
    {
     "data": {
      "application/vnd.jupyter.widget-view+json": {
       "model_id": "69a7877d27994334a66d67d970665fa6",
       "version_major": 2,
       "version_minor": 0
      },
      "text/html": [
       "<p>Failed to display Jupyter Widget of type <code>HBox</code>.</p>\n",
       "<p>\n",
       "  If you're reading this message in the Jupyter Notebook or JupyterLab Notebook, it may mean\n",
       "  that the widgets JavaScript is still loading. If this message persists, it\n",
       "  likely means that the widgets JavaScript library is either not installed or\n",
       "  not enabled. See the <a href=\"https://ipywidgets.readthedocs.io/en/stable/user_install.html\">Jupyter\n",
       "  Widgets Documentation</a> for setup instructions.\n",
       "</p>\n",
       "<p>\n",
       "  If you're reading this message in another frontend (for example, a static\n",
       "  rendering on GitHub or <a href=\"https://nbviewer.jupyter.org/\">NBViewer</a>),\n",
       "  it may mean that your frontend doesn't currently support widgets.\n",
       "</p>\n"
      ],
      "text/plain": [
       "HBox(children=(IntProgress(value=0, max=651), HTML(value='')))"
      ]
     },
     "metadata": {},
     "output_type": "display_data"
    }
   ],
   "source": [
    "test_path = \"/home/aditya/Documents/Projects/atgm_vision_module/CNN-Implementations/data/h5_FILES_ImageNet/validation_folder/val.hdf5\"\n",
    "xml_path = 'AlexNet.xml'\n",
    "LOGDIR = '/home/aditya/Documents/Projects/atgm_vision_module/training_logs/tensorboard_logs'\n",
    "now = datetime.datetime.now()\n",
    "MODELDIR = '/home/aditya/Documents/Projects/atgm_vision_module/training_logs/model_ckpts/'+str(now.isoformat())+'.ckpt'\n",
    "model(xml_path, LOGDIR, MODELDIR, test_path)"
   ]
  },
  {
   "cell_type": "code",
   "execution_count": null,
   "metadata": {},
   "outputs": [],
   "source": []
  }
 ],
 "metadata": {
  "kernelspec": {
   "display_name": "Python 3",
   "language": "python",
   "name": "python3"
  },
  "language_info": {
   "codemirror_mode": {
    "name": "ipython",
    "version": 3
   },
   "file_extension": ".py",
   "mimetype": "text/x-python",
   "name": "python",
   "nbconvert_exporter": "python",
   "pygments_lexer": "ipython3",
   "version": "3.6.3"
  }
 },
 "nbformat": 4,
 "nbformat_minor": 2
}
